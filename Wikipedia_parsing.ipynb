{
 "cells": [
  {
   "cell_type": "markdown",
   "metadata": {
    "colab_type": "text",
    "id": "YAKYLv-8PKJI"
   },
   "source": [
    "# Домашнее задание.\n",
    "\n",
    "Вам нужно решить задачи, предложенные в блокноте и отправить этот блокнот обратно через проект в ЛМС. \n",
    "\n",
    "Засчитываются только те задания, которые полностью выполнены и код работает (мы будем вручную запускать эти ячейки, поэтому если ваш код не сработает, то мы будем считать, что задание не выполненно).\n",
    "\n",
    "Если мы обнаружим списанные работы - мы обнулим результат всем студентам, которых мы подозреваем в списывании. Если у нас будут сомнения, будет проведена защита домашнего задания по результатам которого, к домашнему заданию может быть применен штраф от 25 до 100%.\n",
    "\n",
    "\n"
   ]
  },
  {
   "cell_type": "markdown",
   "metadata": {
    "colab_type": "text",
    "id": "nHA_UhehPc4-"
   },
   "source": [
    "**Задание 1.**  \n",
    "*5 баллов*  \n",
    "\n",
    "1. На странице в https://en.wikipedia.org/wiki/Northwest_Airlines#Incidents_and_accidents нужно найти таблицу под названием \"Northwest Airlines Reported Incidents\". \n",
    "\n",
    "2. С помощью поиска по тегам, нужно сохранить из таблицы следующие колонки: 'Date', 'Aircraft', 'Casualties (Fatal)'. Каждая колонка таблицы должна быть сохранена в отдельную переменную (см. ниже названия), внутри которой лежит список, где первое значение - название колонки. \n",
    "\n",
    "Обатите внимание, что во втором ряде таблицы после скрэйпинга будут лежать подзаголовки колонки Casualties. Учитывайте, что при работе с таблицей вам нужно будет его пропустить.\n",
    "\n",
    "Так же обратите внимание, что внизу таблицы есть два ряда total, информацию из них сохранять не нужно.\n",
    "\n",
    "Например, для колонки 'Aircraft' список будет выглядеть так:  \n",
    "['Aircraft', \"Lockheed Model 14\", ...остальные значения..., \t\"Boeing 727\"]\n",
    "\n",
    "3. Выведите эти три списка командой  \n",
    "print(dates)  \n",
    "print(aircrafts)  \n",
    "print(casualties)\n",
    "\n",
    "*Правильный ответ*  \n",
    "`['Date', 'January 10, 1938', 'October 30, 1941', 'March 12, 1948', 'August 29, 1948', 'October 27, 1948', 'March 7, 1950', 'June 23, 1950', 'October 13, 1950', 'November 7, 1950', 'January 16, 1951', 'January 19, 1952', 'April 2, 1956', 'March 17, 1960', 'July 14, 1960', 'October 28, 1960', 'September 16, 1961', 'February 12, 1963', 'June 3, 1963', 'December 1, 1974', 'January 20, 1983', 'August 16, 1987', 'December 3, 1990', 'December 3, 1990']`\n",
    "\n",
    "`['Aircraft', 'LockheedModel 14', 'Douglas DC-3', 'Douglas DC-4', 'Martin 202', 'Douglas DC-4', 'Martin 202', 'Douglas DC-4', 'Martin 202', 'Martin 202', 'Martin 202', 'Douglas C-54', 'Boeing Stratocruiser', 'Lockheed L-188 Electra', 'Douglas DC-7', 'Douglas C-54', 'Lockheed L-188 Electra', 'Boeing 720', 'Douglas DC-7', 'Boeing 727', 'Boeing 727', 'McDonnell-Douglas MD-82', 'Douglas DC-9', 'Boeing 727']`\n",
    "\n",
    "`['Casualties', '10', '14', '30', '37', '2', '13', '58', '6', '21', '10', '36', '5', '63', '1', '12', '37', '43', '101', '3', '1', '154', '8', '']`\n"
   ]
  },
  {
   "cell_type": "code",
   "execution_count": 53,
   "metadata": {
    "colab": {},
    "colab_type": "code",
    "id": "gw96pPGsTgD-"
   },
   "outputs": [
    {
     "name": "stdout",
     "output_type": "stream",
     "text": [
      "['Date', 'January 10, 1938', 'October 30, 1941', 'March 12, 1948', 'August 29, 1948', 'October 27, 1948', 'March 7, 1950', 'June 23, 1950', 'October 13, 1950', 'November 7, 1950', 'January 16, 1951', 'January 19, 1952', 'April 2, 1956', 'March 17, 1960', 'July 14, 1960', 'October 28, 1960', 'September 16, 1961', 'February 12, 1963', 'June 3, 1963', 'December 1, 1974', 'January 20, 1983', 'August 16, 1987', 'December 3, 1990', 'December 3, 1990']\n",
      "['Aircraft', 'LockheedModel 14', 'Douglas DC-3', 'Douglas DC-4', 'Martin 202', 'Douglas DC-4', 'Martin 202', 'Douglas DC-4', 'Martin 202', 'Martin 202', 'Martin 202', 'Douglas C-54', 'Boeing Stratocruiser', 'Lockheed L-188 Electra', 'Douglas DC-7', 'Douglas C-54', 'Lockheed L-188 Electra', 'Boeing 720', 'Douglas DC-7', 'Boeing 727', 'Boeing 727', 'McDonnell-Douglas MD-82', 'Douglas DC-9', 'Boeing 727']\n",
      "['Casualties', '10', '14', '30', '37', '2', '13', '58', '6', '21', '10', '36', '5', '63', '1', '12', '37', '43', '101', '3', '1', '154', '8', '']\n"
     ]
    }
   ],
   "source": [
    "# Ваше решение. При необходимости создавайте новые ячейки под этой с помощью знака +\n",
    "from bs4 import BeautifulSoup\n",
    "import requests\n",
    "\n",
    "\n",
    "url = 'https://en.wikipedia.org/wiki/Northwest_Airlines#Incidents_and_accidents'\n",
    "\n",
    "\n",
    "soup = BeautifulSoup(requests.get(url).text,'html.parser')\n",
    "table = soup.find(class_='toccolours')\n",
    "\n",
    "\n",
    "rows = table.find_all('tr')\n",
    "\n",
    "dates = [rows[0].find_all('th')[1].get_text().strip()]\n",
    "\n",
    "for row in rows[2:-2]:\n",
    "    dates.append(row.find_all('td')[1].get_text().strip())\n",
    "\n",
    "aircrafts = [rows[0].find_all('th')[2].get_text().strip()]\n",
    "\n",
    "for row in rows[2:-2]:\n",
    "    aircrafts.append(row.find_all('td')[2].get_text().strip())\n",
    "\n",
    "casualties = [rows[0].find_all('th')[5].get_text().strip()]\n",
    "\n",
    "for row in rows[2:-2]:\n",
    "    casualties.append(row.find_all('td')[5].get_text().strip())\n",
    "\n",
    "print(dates)\n",
    "print(aircrafts)\n",
    "print(casualties)\n"
   ]
  },
  {
   "cell_type": "markdown",
   "metadata": {
    "colab_type": "text",
    "id": "p5iPHNBEThlW"
   },
   "source": [
    "**Задание 2.**  \n",
    "*5 баллов (каждый шаг 1 балл)*  \n",
    "В задании вы должны использовать данные, собранные в пункте 1. Задание, выполненное без использования автоматически собранных данных, не засчитывается (например, если вы скопировали все значения из таблицы вручную и нашли их среднее).\n",
    "\n",
    "1. В вашем списке casualties есть одно пропущенное значение (''). Напишите программу, которая находит в списке индекс этого элемента и заменяет его значение на 0. Переведите все значения кроме первого в этом списке в формат int.\n",
    "Правильный список будет выглядеть так: `['Casualties', 10, 14, 30, 37, 2, 13, 58, 6, 21, 10, 36, 5, 63, 1, 12, 37, 43, 101, 3, 1, 154, 8, 0]`\n",
    "\n",
    "2. Создайте словарь disasters, в котором ключ - дата крушения, а значение - список из названия самолета и количества погибших.\n",
    "Словарь будет выглядеть так: `{'January 10, 1938': ['LockheedModel 14', 10], 'October 30, 1941': ['Douglas DC-3', 14], 'March 12, 1948': ['Douglas DC-4', 30], 'August 29, 1948': ['Martin 202', 37], 'October 27, 1948': ['Douglas DC-4', 2], 'March 7, 1950': ['Martin 202', 13], 'June 23, 1950': ['Douglas DC-4', 58], 'October 13, 1950': ['Martin 202', 6], 'November 7, 1950': ['Martin 202', 21], 'January 16, 1951': ['Martin 202', 10], 'January 19, 1952': ['Douglas C-54', 36], 'April 2, 1956': ['Boeing Stratocruiser', 5], 'March 17, 1960': ['Lockheed L-188 Electra', 63], 'July 14, 1960': ['Douglas DC-7', 1], 'October 28, 1960': ['Douglas C-54', 12], 'September 16, 1961': ['Lockheed L-188 Electra', 37], 'February 12, 1963': ['Boeing 720', 43], 'June 3, 1963': ['Douglas DC-7', 101], 'December 1, 1974': ['Boeing 727', 3], 'January 20, 1983': ['Boeing 727', 1], 'August 16, 1987': ['McDonnell-Douglas MD-82', 154], 'December 3, 1990': ['Boeing 727', 0]}`\n",
    "\n",
    "3. Напишите функцию, которая берет аргументом дату и печатает следующую строку: Northwest Airlines {название самолета} crushed on {дата крушения} with total{количество погибших} fatal casualties\n",
    "\n",
    "4. Запустите вашу функцию в цикле для всех дат.\n",
    "\n",
    "5. Напишите программу, которая находит индекс наименьшего значения погибших в списке casualties. Выведите модель самолета, которая потерпела крушение в этом рейсе."
   ]
  },
  {
   "cell_type": "code",
   "execution_count": 37,
   "metadata": {
    "colab": {},
    "colab_type": "code",
    "id": "ezGd9fBUgGLN"
   },
   "outputs": [
    {
     "name": "stdout",
     "output_type": "stream",
     "text": [
      "['Casualties', 10, 14, 30, 37, 2, 13, 58, 6, 21, 10, 36, 5, 63, 1, 12, 37, 43, 101, 3, 1, 154, 8, 0]\n"
     ]
    }
   ],
   "source": [
    "# обработка списка casualties\n",
    "\n",
    "for i in range(len(casualties)):\n",
    "    if casualties[i] == '':\n",
    "        casualties[i] = 0\n",
    "    else:\n",
    "        if i != 0:\n",
    "            casualties[i] = int(casualties[i])\n",
    "\n",
    "print(casualties)"
   ]
  },
  {
   "cell_type": "code",
   "execution_count": 38,
   "metadata": {
    "colab": {},
    "colab_type": "code",
    "id": "F-WCEDiY5eAS"
   },
   "outputs": [
    {
     "name": "stdout",
     "output_type": "stream",
     "text": [
      "{'January 10, 1938': ['LockheedModel 14', 10], 'October 30, 1941': ['Douglas DC-3', 14], 'March 12, 1948': ['Douglas DC-4', 30], 'August 29, 1948': ['Martin 202', 37], 'October 27, 1948': ['Douglas DC-4', 2], 'March 7, 1950': ['Martin 202', 13], 'June 23, 1950': ['Douglas DC-4', 58], 'October 13, 1950': ['Martin 202', 6], 'November 7, 1950': ['Martin 202', 21], 'January 16, 1951': ['Martin 202', 10], 'January 19, 1952': ['Douglas C-54', 36], 'April 2, 1956': ['Boeing Stratocruiser', 5], 'March 17, 1960': ['Lockheed L-188 Electra', 63], 'July 14, 1960': ['Douglas DC-7', 1], 'October 28, 1960': ['Douglas C-54', 12], 'September 16, 1961': ['Lockheed L-188 Electra', 37], 'February 12, 1963': ['Boeing 720', 43], 'June 3, 1963': ['Douglas DC-7', 101], 'December 1, 1974': ['Boeing 727', 3], 'January 20, 1983': ['Boeing 727', 1], 'August 16, 1987': ['McDonnell-Douglas MD-82', 154], 'December 3, 1990': ['Boeing 727', 0]}\n"
     ]
    }
   ],
   "source": [
    "# словарь\n",
    "\n",
    "disasters = {}\n",
    "for i in range(1, len(dates)):\n",
    "    disasters[dates[i]] = [aircrafts[i], casualties[i]]\n",
    "\n",
    "print(disasters)"
   ]
  },
  {
   "cell_type": "code",
   "execution_count": 39,
   "metadata": {
    "colab": {},
    "colab_type": "code",
    "id": "B3tx2UyD5fKT"
   },
   "outputs": [
    {
     "name": "stdout",
     "output_type": "stream",
     "text": [
      "Northwest Airlines LockheedModel 14 crushed on January 10, 1938 with total 10 fatal casualties\n",
      "None\n"
     ]
    }
   ],
   "source": [
    "# функция\n",
    "\n",
    "def information_by_the_date(date):\n",
    "    needed_aircraft = disasters[date][0]\n",
    "    needed_casualties = disasters[date][1]\n",
    "    print(\"Northwest Airlines\", needed_aircraft, \"crushed on\", date, \"with total\", needed_casualties, \"fatal casualties\")"
   ]
  },
  {
   "cell_type": "code",
   "execution_count": 40,
   "metadata": {
    "colab": {},
    "colab_type": "code",
    "id": "yofNg33S5gkS"
   },
   "outputs": [
    {
     "name": "stdout",
     "output_type": "stream",
     "text": [
      "Northwest Airlines LockheedModel 14 crushed on January 10, 1938 with total 10 fatal casualties\n",
      "Northwest Airlines Douglas DC-3 crushed on October 30, 1941 with total 14 fatal casualties\n",
      "Northwest Airlines Douglas DC-4 crushed on March 12, 1948 with total 30 fatal casualties\n",
      "Northwest Airlines Martin 202 crushed on August 29, 1948 with total 37 fatal casualties\n",
      "Northwest Airlines Douglas DC-4 crushed on October 27, 1948 with total 2 fatal casualties\n",
      "Northwest Airlines Martin 202 crushed on March 7, 1950 with total 13 fatal casualties\n",
      "Northwest Airlines Douglas DC-4 crushed on June 23, 1950 with total 58 fatal casualties\n",
      "Northwest Airlines Martin 202 crushed on October 13, 1950 with total 6 fatal casualties\n",
      "Northwest Airlines Martin 202 crushed on November 7, 1950 with total 21 fatal casualties\n",
      "Northwest Airlines Martin 202 crushed on January 16, 1951 with total 10 fatal casualties\n",
      "Northwest Airlines Douglas C-54 crushed on January 19, 1952 with total 36 fatal casualties\n",
      "Northwest Airlines Boeing Stratocruiser crushed on April 2, 1956 with total 5 fatal casualties\n",
      "Northwest Airlines Lockheed L-188 Electra crushed on March 17, 1960 with total 63 fatal casualties\n",
      "Northwest Airlines Douglas DC-7 crushed on July 14, 1960 with total 1 fatal casualties\n",
      "Northwest Airlines Douglas C-54 crushed on October 28, 1960 with total 12 fatal casualties\n",
      "Northwest Airlines Lockheed L-188 Electra crushed on September 16, 1961 with total 37 fatal casualties\n",
      "Northwest Airlines Boeing 720 crushed on February 12, 1963 with total 43 fatal casualties\n",
      "Northwest Airlines Douglas DC-7 crushed on June 3, 1963 with total 101 fatal casualties\n",
      "Northwest Airlines Boeing 727 crushed on December 1, 1974 with total 3 fatal casualties\n",
      "Northwest Airlines Boeing 727 crushed on January 20, 1983 with total 1 fatal casualties\n",
      "Northwest Airlines McDonnell-Douglas MD-82 crushed on August 16, 1987 with total 154 fatal casualties\n",
      "Northwest Airlines Boeing 727 crushed on December 3, 1990 with total 0 fatal casualties\n"
     ]
    }
   ],
   "source": [
    "# функция в цикле\n",
    "\n",
    "for date in disasters:\n",
    "    information_by_the_date(date)"
   ]
  },
  {
   "cell_type": "code",
   "execution_count": 54,
   "metadata": {
    "colab": {},
    "colab_type": "code",
    "id": "wgbx4SGm5ifJ",
    "pycharm": {
     "name": "#%%\n"
    }
   },
   "outputs": [
    {
     "name": "stdout",
     "output_type": "stream",
     "text": [
      "Boeing 727\n"
     ]
    }
   ],
   "source": [
    "# наименьшее количество жертв\n",
    "\n",
    "for i in range(1, len(casualties)):\n",
    "    if casualties[i] == min(casualties[1:]):\n",
    "        print(aircrafts[i])"
   ]
  }
 ],
 "metadata": {
  "colab": {
   "collapsed_sections": [],
   "name": "4_HW_RISO_ready",
   "provenance": [
    {
     "file_id": "1eQkIbc9wxAYFhwUMC8DFl5A99eOeVIO_",
     "timestamp": 1575227805372
    },
    {
     "file_id": "1_Zd1fFMCbRWqBqm8GvTaxCFJ4ifNM4Wa",
     "timestamp": 1575132776125
    },
    {
     "file_id": "1F3ZZK6BsDH4oLx9gHHJk_Q89PT55qmBS",
     "timestamp": 1574803062372
    },
    {
     "file_id": "1gsnNtHuJzX9HEcVRrZ2fCEx13PvCFcAB",
     "timestamp": 1574802296754
    }
   ]
  },
  "kernelspec": {
   "display_name": "Python 3",
   "language": "python",
   "name": "python3"
  },
  "language_info": {
   "codemirror_mode": {
    "name": "ipython",
    "version": 3
   },
   "file_extension": ".py",
   "mimetype": "text/x-python",
   "name": "python",
   "nbconvert_exporter": "python",
   "pygments_lexer": "ipython3",
   "version": "3.8.5"
  }
 },
 "nbformat": 4,
 "nbformat_minor": 1
}